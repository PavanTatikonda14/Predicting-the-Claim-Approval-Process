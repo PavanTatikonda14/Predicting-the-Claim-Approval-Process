{
 "cells": [
  {
   "cell_type": "markdown",
   "metadata": {},
   "source": [
    "# Claim Approval Process\n"
   ]
  },
  {
   "cell_type": "code",
   "execution_count": 7,
   "metadata": {},
   "outputs": [],
   "source": [
    "# To ignore any warnings\n",
    "import warnings\n",
    "warnings.filterwarnings('ignore')\n",
    "#To run all the commands in a same shell\n",
    "from IPython.core.interactiveshell import InteractiveShell\n",
    "InteractiveShell.ast_node_interactivity = \"all\"\n",
    "from matplotlib import pyplot\n",
    "import numpy as np\n",
    "import pandas as pd\n",
    "from scipy.stats import norm\n",
    "# For plotting graphs\n",
    "import matplotlib.pyplot as plt\n",
    "\n",
    "%matplotlib inline\n",
    "# For data visualization\n",
    "import seaborn as sns\n",
    "#for different algorithms\n",
    "from sklearn.utils import shuffle\n",
    "#from factor_analyzer import FactorAnalyzer\n",
    "#from sklearn import decomposition, preprocessing\n",
    "from sklearn.model_selection import cross_val_score\n",
    "from sklearn.preprocessing import scale\n",
    "from sklearn.model_selection import train_test_split\n",
    "from sklearn.model_selection import cross_val_score\n",
    "from sklearn.metrics import accuracy_score\n",
    "from sklearn.metrics import classification_report\n",
    "from sklearn.metrics import confusion_matrix\n",
    "from sklearn.metrics import roc_curve\n",
    "from sklearn.metrics import roc_auc_score\n",
    "from sklearn.model_selection import GridSearchCV\n",
    "from sklearn.linear_model import LogisticRegression\n",
    "from sklearn.svm import SVC\n",
    "from sklearn.neighbors import KNeighborsClassifier\n",
    "from sklearn.tree import DecisionTreeClassifier, export_graphviz\n",
    "from sklearn.ensemble import RandomForestClassifier\n",
    "from sklearn.ensemble import GradientBoostingClassifier\n",
    "from sklearn.ensemble import AdaBoostClassifier"
   ]
  },
  {
   "cell_type": "markdown",
   "metadata": {},
   "source": [
    "# Import Dataset"
   ]
  },
  {
   "cell_type": "code",
   "execution_count": 10,
   "metadata": {
    "scrolled": true
   },
   "outputs": [],
   "source": [
    "df= pd.read_csv(r'C:/Users/Pavan/CSV_FILES_PYTHON/Test data Set_2020-02-17.csv')\n"
   ]
  },
  {
   "cell_type": "code",
   "execution_count": 11,
   "metadata": {},
   "outputs": [
    {
     "data": {
      "text/plain": [
       "ClaimID                0\n",
       "AGMID                  0\n",
       "LOB                    0\n",
       "State             162701\n",
       "ProgramCode            0\n",
       "PlanCode               0\n",
       "VehicleMake         1482\n",
       "VehicleModel        1671\n",
       "VehicleYear            0\n",
       "TermMonth              0\n",
       "TermMiles              0\n",
       "ComponentCode          0\n",
       "ComponentSet           2\n",
       "ContractStatus         0\n",
       "AgeAtClaim             0\n",
       "AgeAtCancel            0\n",
       "ClaimDate              0\n",
       "PaidDate            5454\n",
       "AgeofPayment           0\n",
       "dtype: int64"
      ]
     },
     "execution_count": 11,
     "metadata": {},
     "output_type": "execute_result"
    }
   ],
   "source": [
    "#df.Claimstatus=df.Claimstatus.map({'C':1,'D':0}) \n",
    "df.isnull().sum()"
   ]
  },
  {
   "cell_type": "code",
   "execution_count": 12,
   "metadata": {},
   "outputs": [],
   "source": [
    "df.drop_duplicates(['ClaimID', 'ComponentSet'],keep= 'last', inplace = True)\n"
   ]
  },
  {
   "cell_type": "code",
   "execution_count": 14,
   "metadata": {},
   "outputs": [
    {
     "data": {
      "text/plain": [
       "Index(['ClaimID', 'AGMID', 'LOB', 'State', 'ProgramCode', 'PlanCode',\n",
       "       'VehicleMake', 'VehicleModel', 'VehicleYear', 'TermMonth', 'TermMiles',\n",
       "       'ComponentCode', 'ComponentSet', 'ContractStatus', 'AgeAtClaim',\n",
       "       'AgeAtCancel', 'ClaimDate', 'PaidDate', 'AgeofPayment'],\n",
       "      dtype='object')"
      ]
     },
     "execution_count": 14,
     "metadata": {},
     "output_type": "execute_result"
    }
   ],
   "source": [
    "df.columns"
   ]
  },
  {
   "cell_type": "code",
   "execution_count": 15,
   "metadata": {},
   "outputs": [
    {
     "data": {
      "text/plain": [
       "State           119195\n",
       "VehicleMake        782\n",
       "VehicleModel       901\n",
       "ComponentSet         2\n",
       "PaidDate          4054\n",
       "dtype: int64"
      ]
     },
     "execution_count": 15,
     "metadata": {},
     "output_type": "execute_result"
    }
   ],
   "source": [
    "nulls = df.isnull().sum()\n",
    "nulls[nulls > 0]"
   ]
  },
  {
   "cell_type": "code",
   "execution_count": 16,
   "metadata": {},
   "outputs": [
    {
     "name": "stdout",
     "output_type": "stream",
     "text": [
      "<class 'pandas.core.frame.DataFrame'>\n",
      "Int64Index: 123439 entries, 2 to 169936\n",
      "Data columns (total 19 columns):\n",
      "ClaimID           123439 non-null int64\n",
      "AGMID             123439 non-null int64\n",
      "LOB               123439 non-null object\n",
      "State             4244 non-null object\n",
      "ProgramCode       123439 non-null object\n",
      "PlanCode          123439 non-null object\n",
      "VehicleMake       122657 non-null object\n",
      "VehicleModel      122538 non-null object\n",
      "VehicleYear       123439 non-null int64\n",
      "TermMonth         123439 non-null int64\n",
      "TermMiles         123439 non-null int64\n",
      "ComponentCode     123439 non-null object\n",
      "ComponentSet      123437 non-null object\n",
      "ContractStatus    123439 non-null object\n",
      "AgeAtClaim        123439 non-null int64\n",
      "AgeAtCancel       123439 non-null int64\n",
      "ClaimDate         123439 non-null int64\n",
      "PaidDate          119385 non-null float64\n",
      "AgeofPayment      123439 non-null int64\n",
      "dtypes: float64(1), int64(9), object(9)\n",
      "memory usage: 18.8+ MB\n"
     ]
    }
   ],
   "source": [
    "df.info()"
   ]
  },
  {
   "cell_type": "code",
   "execution_count": 18,
   "metadata": {},
   "outputs": [
    {
     "data": {
      "text/plain": [
       "(123439, 19)"
      ]
     },
     "execution_count": 18,
     "metadata": {},
     "output_type": "execute_result"
    }
   ],
   "source": [
    "df.shape"
   ]
  },
  {
   "cell_type": "code",
   "execution_count": 19,
   "metadata": {},
   "outputs": [],
   "source": [
    "from sklearn.utils import shuffle\n",
    "df = shuffle(df)"
   ]
  },
  {
   "cell_type": "code",
   "execution_count": 20,
   "metadata": {},
   "outputs": [
    {
     "data": {
      "text/plain": [
       "(Index(['ClaimID', 'AGMID', 'LOB', 'State', 'ProgramCode', 'PlanCode',\n",
       "        'VehicleMake', 'VehicleModel', 'VehicleYear', 'TermMonth', 'TermMiles',\n",
       "        'ComponentCode', 'ComponentSet', 'ContractStatus', 'AgeAtClaim',\n",
       "        'AgeAtCancel', 'ClaimDate', 'PaidDate', 'AgeofPayment'],\n",
       "       dtype='object'), (123439, 19))"
      ]
     },
     "execution_count": 20,
     "metadata": {},
     "output_type": "execute_result"
    }
   ],
   "source": [
    "df.columns,df.shape"
   ]
  },
  {
   "cell_type": "markdown",
   "metadata": {},
   "source": [
    "# Missing values at individual variable level"
   ]
  },
  {
   "cell_type": "code",
   "execution_count": 23,
   "metadata": {},
   "outputs": [
    {
     "data": {
      "text/plain": [
       "ClaimID                0\n",
       "AGMID                  0\n",
       "LOB                    0\n",
       "State             119195\n",
       "ProgramCode            0\n",
       "PlanCode               0\n",
       "VehicleMake          782\n",
       "VehicleModel         901\n",
       "VehicleYear            0\n",
       "TermMonth              0\n",
       "TermMiles              0\n",
       "ComponentCode          0\n",
       "ComponentSet           2\n",
       "ContractStatus         0\n",
       "AgeAtClaim             0\n",
       "AgeAtCancel            0\n",
       "ClaimDate              0\n",
       "PaidDate            4054\n",
       "AgeofPayment           0\n",
       "dtype: int64"
      ]
     },
     "execution_count": 23,
     "metadata": {},
     "output_type": "execute_result"
    }
   ],
   "source": [
    "#shows the missing values at individual variable level\n",
    "\n",
    "#df.isnull().sum() --> works same as below code\n",
    "df.apply(lambda x: sum(x.isnull()), axis=0)"
   ]
  },
  {
   "cell_type": "code",
   "execution_count": 24,
   "metadata": {},
   "outputs": [
    {
     "data": {
      "text/plain": [
       "124934"
      ]
     },
     "execution_count": 24,
     "metadata": {},
     "output_type": "execute_result"
    }
   ],
   "source": [
    "#shows the total number of missing values\n",
    "df.isnull().sum().sum()"
   ]
  },
  {
   "cell_type": "code",
   "execution_count": 25,
   "metadata": {},
   "outputs": [
    {
     "data": {
      "text/plain": [
       "State    0.965619\n",
       "dtype: float64"
      ]
     },
     "execution_count": 25,
     "metadata": {},
     "output_type": "execute_result"
    }
   ],
   "source": [
    "#variables which we can remove\n",
    "var_null_pc = df.isnull().sum(axis=0).sort_values( ascending=False)/float(len(df) )\n",
    "var_null_pc[ var_null_pc > 0.75 ]"
   ]
  },
  {
   "cell_type": "code",
   "execution_count": 1,
   "metadata": {},
   "outputs": [
    {
     "ename": "NameError",
     "evalue": "name 'df' is not defined",
     "output_type": "error",
     "traceback": [
      "\u001b[1;31m---------------------------------------------------------------------------\u001b[0m",
      "\u001b[1;31mNameError\u001b[0m                                 Traceback (most recent call last)",
      "\u001b[1;32m<ipython-input-1-77ae56bb0db7>\u001b[0m in \u001b[0;36m<module>\u001b[1;34m\u001b[0m\n\u001b[1;32m----> 1\u001b[1;33m \u001b[0mdf\u001b[0m\u001b[1;33m.\u001b[0m\u001b[0mdrop\u001b[0m\u001b[1;33m(\u001b[0m \u001b[0mvar_null_pc\u001b[0m\u001b[1;33m[\u001b[0m \u001b[0mvar_null_pc\u001b[0m \u001b[1;33m>\u001b[0m \u001b[1;36m0.75\u001b[0m \u001b[1;33m]\u001b[0m\u001b[1;33m.\u001b[0m\u001b[0mindex\u001b[0m\u001b[1;33m,\u001b[0m \u001b[0maxis\u001b[0m \u001b[1;33m=\u001b[0m \u001b[1;36m1\u001b[0m\u001b[1;33m,\u001b[0m  \u001b[1;33m)\u001b[0m\u001b[1;33m\u001b[0m\u001b[1;33m\u001b[0m\u001b[0m\n\u001b[0m\u001b[0;32m      2\u001b[0m \u001b[0mdf\u001b[0m\u001b[1;33m.\u001b[0m\u001b[0mdropna\u001b[0m\u001b[1;33m(\u001b[0m \u001b[0maxis\u001b[0m \u001b[1;33m=\u001b[0m \u001b[1;36m0\u001b[0m\u001b[1;33m,\u001b[0m \u001b[0mthresh\u001b[0m \u001b[1;33m=\u001b[0m \u001b[1;36m30\u001b[0m\u001b[1;33m,\u001b[0m \u001b[1;33m)\u001b[0m\u001b[1;33m\u001b[0m\u001b[1;33m\u001b[0m\u001b[0m\n",
      "\u001b[1;31mNameError\u001b[0m: name 'df' is not defined"
     ]
    }
   ],
   "source": [
    "df.drop( var_null_pc[ var_null_pc > 0.75 ].index, axis = 1,  ) \n",
    "df.dropna( axis = 0, thresh = 30, )"
   ]
  },
  {
   "cell_type": "markdown",
   "metadata": {},
   "source": [
    "# COLUMNS REMOVED"
   ]
  },
  {
   "cell_type": "code",
   "execution_count": 27,
   "metadata": {},
   "outputs": [],
   "source": [
    "#The Variables which can be removed are -,\n",
    "vars_to_be_removed = [ 'ClaimDate', 'PaidDate', 'AGMID',  'State','AgeofPayment','AgeAtCancel',\n",
    " 'AgeAtClaim','ComponentCode'\n",
    " ]\n",
    "\n",
    "df.drop(vars_to_be_removed , axis = 1, inplace=True )#inplace=True"
   ]
  },
  {
   "cell_type": "code",
   "execution_count": 28,
   "metadata": {
    "scrolled": true
   },
   "outputs": [
    {
     "data": {
      "text/plain": [
       "['ClaimID',\n",
       " 'LOB',\n",
       " 'ProgramCode',\n",
       " 'PlanCode',\n",
       " 'VehicleMake',\n",
       " 'VehicleModel',\n",
       " 'VehicleYear',\n",
       " 'TermMonth',\n",
       " 'TermMiles',\n",
       " 'ComponentSet',\n",
       " 'ContractStatus']"
      ]
     },
     "execution_count": 28,
     "metadata": {},
     "output_type": "execute_result"
    }
   ],
   "source": [
    "#shows the variable names present in the dataframe\n",
    "list(df.columns.values)"
   ]
  },
  {
   "cell_type": "code",
   "execution_count": 29,
   "metadata": {},
   "outputs": [
    {
     "data": {
      "text/plain": [
       "Index(['ClaimID', 'LOB', 'ProgramCode', 'PlanCode', 'VehicleMake',\n",
       "       'VehicleModel', 'VehicleYear', 'TermMonth', 'TermMiles', 'ComponentSet',\n",
       "       'ContractStatus'],\n",
       "      dtype='object')"
      ]
     },
     "execution_count": 29,
     "metadata": {},
     "output_type": "execute_result"
    }
   ],
   "source": [
    "df.columns"
   ]
  },
  {
   "cell_type": "code",
   "execution_count": 30,
   "metadata": {},
   "outputs": [
    {
     "name": "stdout",
     "output_type": "stream",
     "text": [
      "There are 7 categorical variables\n"
     ]
    }
   ],
   "source": [
    "# find categorical variables\n",
    "categorical = [var for var in df.columns if df[var].dtype=='O']\n",
    "print('There are {} categorical variables'.format(len(categorical)))"
   ]
  },
  {
   "cell_type": "code",
   "execution_count": 31,
   "metadata": {},
   "outputs": [
    {
     "name": "stdout",
     "output_type": "stream",
     "text": [
      "There are 4 numerical variables\n"
     ]
    }
   ],
   "source": [
    "\n",
    "# find numerical variables\n",
    "numerical = [var for var in df.columns if df[var].dtype!='O']\n",
    "print('There are {} numerical variables'.format(len(numerical)))"
   ]
  },
  {
   "cell_type": "code",
   "execution_count": 32,
   "metadata": {},
   "outputs": [
    {
     "data": {
      "text/plain": [
       "Index(['LOB', 'ProgramCode', 'PlanCode', 'VehicleMake', 'VehicleModel',\n",
       "       'ComponentSet', 'ContractStatus'],\n",
       "      dtype='object')"
      ]
     },
     "execution_count": 32,
     "metadata": {},
     "output_type": "execute_result"
    }
   ],
   "source": [
    "df[categorical].columns"
   ]
  },
  {
   "cell_type": "code",
   "execution_count": 33,
   "metadata": {},
   "outputs": [
    {
     "data": {
      "text/plain": [
       "Index(['ClaimID', 'VehicleYear', 'TermMonth', 'TermMiles'], dtype='object')"
      ]
     },
     "execution_count": 33,
     "metadata": {},
     "output_type": "execute_result"
    }
   ],
   "source": [
    "df[numerical].columns"
   ]
  },
  {
   "cell_type": "code",
   "execution_count": 34,
   "metadata": {},
   "outputs": [
    {
     "data": {
      "text/plain": [
       "(123439, 11)"
      ]
     },
     "execution_count": 34,
     "metadata": {},
     "output_type": "execute_result"
    }
   ],
   "source": [
    "df.shape"
   ]
  },
  {
   "cell_type": "markdown",
   "metadata": {},
   "source": [
    "# One hot encoding and dummy encoding on Categorical"
   ]
  },
  {
   "cell_type": "code",
   "execution_count": 35,
   "metadata": {},
   "outputs": [],
   "source": [
    "#Changing the datatype of the variable in a dataframe\n",
    "df['ProgramCode'] = df['ProgramCode'].astype('category')\n",
    "#df['ProductCode'] = df['ProductCode'].astype('category')\n",
    "df['PlanCode'] = df['PlanCode'].astype('category')\n",
    "\n",
    "#df['State'] = df['State'].astype('category')\n",
    "df['ContractStatus'] = df['ContractStatus'].astype('category')\n",
    "df['ComponentSet'] = df['ComponentSet'].astype('category')\n",
    "df['LOB'] = df['LOB'].astype('category')\n",
    "df['VehicleMake'] = df['VehicleMake'].astype('category')\n",
    "df['VehicleModel'] = df['VehicleModel'].astype('category')\n",
    "#df['FuelType'] = df['FuelType'].astype('category') \n",
    "#df['ComponentCode'] = df['ComponentCode'].astype('category')"
   ]
  },
  {
   "cell_type": "code",
   "execution_count": 36,
   "metadata": {},
   "outputs": [],
   "source": [
    "# Convert all non-numeric values to number\n",
    "cat=['LOB',  'ProgramCode', 'PlanCode', 'VehicleMake',\n",
    "       'VehicleModel', 'ContractStatus']"
   ]
  },
  {
   "cell_type": "code",
   "execution_count": 37,
   "metadata": {},
   "outputs": [
    {
     "data": {
      "text/plain": [
       "ClaimID              int64\n",
       "LOB                  int32\n",
       "ProgramCode          int32\n",
       "PlanCode             int32\n",
       "VehicleMake          int32\n",
       "VehicleModel         int32\n",
       "VehicleYear          int64\n",
       "TermMonth            int64\n",
       "TermMiles            int64\n",
       "ComponentSet      category\n",
       "ContractStatus       int32\n",
       "dtype: object"
      ]
     },
     "execution_count": 37,
     "metadata": {},
     "output_type": "execute_result"
    }
   ],
   "source": [
    "from sklearn import preprocessing\n",
    "le =preprocessing.LabelEncoder()\n",
    "for var in cat:\n",
    "    le = preprocessing.LabelEncoder()\n",
    "    df[var]=le.fit_transform(df[var].astype('str'))\n",
    "df.dtypes"
   ]
  },
  {
   "cell_type": "code",
   "execution_count": 38,
   "metadata": {},
   "outputs": [],
   "source": [
    "# explicitly require this experimental feature\n",
    "from sklearn.experimental import enable_iterative_imputer  # noqa\n",
    "# now you can import normally from sklearn.impute\n",
    "from sklearn.impute import IterativeImputer\n",
    "from sklearn.ensemble import ExtraTreesRegressor\n",
    "#from sklearn.neighbors import KNeighborsRegressor\n",
    "from sklearn.preprocessing import OrdinalEncoder"
   ]
  },
  {
   "cell_type": "code",
   "execution_count": 39,
   "metadata": {},
   "outputs": [
    {
     "data": {
      "text/plain": [
       "ClaimID           0\n",
       "LOB               0\n",
       "ProgramCode       0\n",
       "PlanCode          0\n",
       "VehicleMake       0\n",
       "VehicleModel      0\n",
       "VehicleYear       0\n",
       "TermMonth         0\n",
       "TermMiles         0\n",
       "ComponentSet      2\n",
       "ContractStatus    0\n",
       "dtype: int64"
      ]
     },
     "execution_count": 39,
     "metadata": {},
     "output_type": "execute_result"
    }
   ],
   "source": [
    "df.isnull().sum()"
   ]
  },
  {
   "cell_type": "code",
   "execution_count": 40,
   "metadata": {},
   "outputs": [
    {
     "name": "stdout",
     "output_type": "stream",
     "text": [
      "2012    0.098275\n",
      "2011    0.097311\n",
      "2013    0.097052\n",
      "2014    0.089145\n",
      "2008    0.080072\n",
      "2007    0.072287\n",
      "2015    0.068576\n",
      "2010    0.065304\n",
      "2006    0.058701\n",
      "2009    0.055930\n",
      "2005    0.042458\n",
      "2016    0.037946\n",
      "2004    0.029189\n",
      "2017    0.022456\n",
      "2003    0.018495\n",
      "2018    0.011325\n",
      "2002    0.011196\n",
      "2001    0.007858\n",
      "0       0.006351\n",
      "2000    0.005930\n",
      "1999    0.005590\n",
      "2019    0.004618\n",
      "1998    0.003710\n",
      "1997    0.003419\n",
      "1996    0.002706\n",
      "1995    0.001928\n",
      "1994    0.000875\n",
      "1993    0.000575\n",
      "1992    0.000275\n",
      "1990    0.000227\n",
      "2020    0.000154\n",
      "1991    0.000065\n",
      "Name: VehicleYear, dtype: float64\n",
      "\n",
      "60     0.345928\n",
      "48     0.191892\n",
      "36     0.113821\n",
      "72     0.099166\n",
      "24     0.073883\n",
      "120    0.054432\n",
      "84     0.050851\n",
      "38     0.031311\n",
      "1      0.011536\n",
      "12     0.011334\n",
      "999    0.004739\n",
      "96     0.003953\n",
      "75     0.002560\n",
      "6      0.001215\n",
      "39     0.000834\n",
      "168    0.000826\n",
      "3      0.000794\n",
      "66     0.000348\n",
      "42     0.000203\n",
      "63     0.000138\n",
      "78     0.000081\n",
      "30     0.000057\n",
      "54     0.000041\n",
      "18     0.000024\n",
      "57     0.000008\n",
      "69     0.000008\n",
      "65     0.000008\n",
      "76     0.000008\n",
      "Name: TermMonth, dtype: float64\n",
      "\n",
      "100000      0.291221\n",
      "75000       0.159658\n",
      "50000       0.146291\n",
      "9999999     0.142880\n",
      "60000       0.094176\n",
      "30000       0.054197\n",
      "42000       0.043025\n",
      "36000       0.015400\n",
      "90000       0.010556\n",
      "18000       0.009940\n",
      "24000       0.007348\n",
      "0           0.006335\n",
      "125000      0.005387\n",
      "120000      0.003338\n",
      "45000       0.003281\n",
      "70000       0.001572\n",
      "12000       0.000964\n",
      "130000      0.000802\n",
      "48000       0.000697\n",
      "3000        0.000583\n",
      "150000      0.000510\n",
      "15000       0.000446\n",
      "80000       0.000292\n",
      "84000       0.000227\n",
      "72000       0.000211\n",
      "99999999    0.000170\n",
      "999999      0.000130\n",
      "200000      0.000089\n",
      "25000       0.000089\n",
      "110000      0.000073\n",
      "35000       0.000057\n",
      "95000       0.000024\n",
      "40000       0.000024\n",
      "6000        0.000008\n",
      "Name: TermMiles, dtype: float64\n",
      "\n"
     ]
    }
   ],
   "source": [
    "\n",
    "# outlies in discrete variables\n",
    "for var in [  'VehicleYear', 'TermMonth', 'TermMiles',    \n",
    "       ]:\n",
    "    print(df[var].value_counts() / np.float(len(df)))\n",
    "    print()"
   ]
  },
  {
   "cell_type": "code",
   "execution_count": 41,
   "metadata": {},
   "outputs": [
    {
     "name": "stdout",
     "output_type": "stream",
     "text": [
      "LOB  contains  3  labels\n",
      "ProgramCode  contains  214  labels\n",
      "PlanCode  contains  502  labels\n",
      "VehicleMake  contains  61  labels\n",
      "VehicleModel  contains  3846  labels\n",
      "ComponentSet  contains  56  labels\n",
      "ContractStatus  contains  10  labels\n"
     ]
    }
   ],
   "source": [
    "for var in categorical:\n",
    "    print(var, ' contains ', len(df[var].unique()), ' labels')"
   ]
  },
  {
   "cell_type": "code",
   "execution_count": 2,
   "metadata": {},
   "outputs": [
    {
     "ename": "NameError",
     "evalue": "name 'pd' is not defined",
     "output_type": "error",
     "traceback": [
      "\u001b[1;31m---------------------------------------------------------------------------\u001b[0m",
      "\u001b[1;31mNameError\u001b[0m                                 Traceback (most recent call last)",
      "\u001b[1;32m<ipython-input-2-84bebf8369f3>\u001b[0m in \u001b[0;36m<module>\u001b[1;34m\u001b[0m\n\u001b[1;32m----> 1\u001b[1;33m \u001b[0mdf2\u001b[0m\u001b[1;33m=\u001b[0m\u001b[0mpd\u001b[0m\u001b[1;33m.\u001b[0m\u001b[0mconcat\u001b[0m\u001b[1;33m(\u001b[0m\u001b[1;33m[\u001b[0m\u001b[0mdf\u001b[0m\u001b[1;33m,\u001b[0m \u001b[0mpd\u001b[0m\u001b[1;33m.\u001b[0m\u001b[0mget_dummies\u001b[0m\u001b[1;33m(\u001b[0m\u001b[0mdf\u001b[0m\u001b[1;33m.\u001b[0m\u001b[0mComponentSet\u001b[0m\u001b[1;33m)\u001b[0m\u001b[1;33m]\u001b[0m\u001b[1;33m,\u001b[0m \u001b[1;36m1\u001b[0m\u001b[1;33m)\u001b[0m\u001b[1;33m.\u001b[0m\u001b[0mgroupby\u001b[0m\u001b[1;33m(\u001b[0m\u001b[1;33m[\u001b[0m\u001b[1;34m'ClaimID'\u001b[0m\u001b[1;33m]\u001b[0m\u001b[1;33m)\u001b[0m\u001b[1;33m.\u001b[0m\u001b[0msum\u001b[0m\u001b[1;33m(\u001b[0m\u001b[1;33m)\u001b[0m\u001b[1;33m.\u001b[0m\u001b[0mreset_index\u001b[0m\u001b[1;33m(\u001b[0m\u001b[1;33m)\u001b[0m\u001b[1;33m\u001b[0m\u001b[1;33m\u001b[0m\u001b[0m\n\u001b[0m\u001b[0;32m      2\u001b[0m \u001b[0mdf2\u001b[0m\u001b[1;33m\u001b[0m\u001b[1;33m\u001b[0m\u001b[0m\n",
      "\u001b[1;31mNameError\u001b[0m: name 'pd' is not defined"
     ]
    }
   ],
   "source": [
    "df2=pd.concat([df, pd.get_dummies(df.ComponentSet)], 1).groupby(['ClaimID']).sum().reset_index()\n",
    "df2"
   ]
  },
  {
   "cell_type": "code",
   "execution_count": 43,
   "metadata": {},
   "outputs": [],
   "source": [
    "df2.drop([ 'LOB', 'ProgramCode', 'PlanCode', 'VehicleMake',\n",
    "       'VehicleModel', 'VehicleYear', 'TermMonth', 'TermMiles',\n",
    "       'ContractStatus'], axis=1, inplace=True) "
   ]
  },
  {
   "cell_type": "code",
   "execution_count": 3,
   "metadata": {},
   "outputs": [
    {
     "ename": "NameError",
     "evalue": "name 'df' is not defined",
     "output_type": "error",
     "traceback": [
      "\u001b[1;31m---------------------------------------------------------------------------\u001b[0m",
      "\u001b[1;31mNameError\u001b[0m                                 Traceback (most recent call last)",
      "\u001b[1;32m<ipython-input-3-4e736946142a>\u001b[0m in \u001b[0;36m<module>\u001b[1;34m\u001b[0m\n\u001b[1;32m----> 1\u001b[1;33m \u001b[0mdf1\u001b[0m\u001b[1;33m=\u001b[0m\u001b[0mdf\u001b[0m\u001b[1;33m.\u001b[0m\u001b[0mgroupby\u001b[0m\u001b[1;33m(\u001b[0m\u001b[1;33m[\u001b[0m\u001b[1;34m'ClaimID'\u001b[0m\u001b[1;33m]\u001b[0m\u001b[1;33m)\u001b[0m\u001b[1;33m.\u001b[0m\u001b[0mlast\u001b[0m\u001b[1;33m(\u001b[0m\u001b[1;33m)\u001b[0m\u001b[1;33m\u001b[0m\u001b[1;33m\u001b[0m\u001b[0m\n\u001b[0m\u001b[0;32m      2\u001b[0m \u001b[0mdf1\u001b[0m\u001b[1;33m\u001b[0m\u001b[1;33m\u001b[0m\u001b[0m\n",
      "\u001b[1;31mNameError\u001b[0m: name 'df' is not defined"
     ]
    }
   ],
   "source": [
    "df1=df.groupby(['ClaimID']).last()\n",
    "df1"
   ]
  },
  {
   "cell_type": "code",
   "execution_count": 47,
   "metadata": {
    "scrolled": true
   },
   "outputs": [],
   "source": [
    "df1.drop([ 'ComponentSet'], axis=1, inplace=True) \n"
   ]
  },
  {
   "cell_type": "code",
   "execution_count": 48,
   "metadata": {},
   "outputs": [
    {
     "data": {
      "text/plain": [
       "Index(['LOB', 'ProgramCode', 'PlanCode', 'VehicleMake', 'VehicleModel',\n",
       "       'VehicleYear', 'TermMonth', 'TermMiles', 'ContractStatus'],\n",
       "      dtype='object')"
      ]
     },
     "execution_count": 48,
     "metadata": {},
     "output_type": "execute_result"
    }
   ],
   "source": [
    "df1.columns"
   ]
  },
  {
   "cell_type": "code",
   "execution_count": 4,
   "metadata": {},
   "outputs": [
    {
     "ename": "NameError",
     "evalue": "name 'df2' is not defined",
     "output_type": "error",
     "traceback": [
      "\u001b[1;31m---------------------------------------------------------------------------\u001b[0m",
      "\u001b[1;31mNameError\u001b[0m                                 Traceback (most recent call last)",
      "\u001b[1;32m<ipython-input-4-2f66b0aae6b6>\u001b[0m in \u001b[0;36m<module>\u001b[1;34m\u001b[0m\n\u001b[1;32m----> 1\u001b[1;33m \u001b[0mdf2\u001b[0m\u001b[1;33m.\u001b[0m\u001b[0mcolumns\u001b[0m\u001b[1;33m\u001b[0m\u001b[1;33m\u001b[0m\u001b[0m\n\u001b[0m",
      "\u001b[1;31mNameError\u001b[0m: name 'df2' is not defined"
     ]
    }
   ],
   "source": [
    "df2.columns"
   ]
  },
  {
   "cell_type": "code",
   "execution_count": 5,
   "metadata": {},
   "outputs": [
    {
     "ename": "NameError",
     "evalue": "name 'df1' is not defined",
     "output_type": "error",
     "traceback": [
      "\u001b[1;31m---------------------------------------------------------------------------\u001b[0m",
      "\u001b[1;31mNameError\u001b[0m                                 Traceback (most recent call last)",
      "\u001b[1;32m<ipython-input-5-bd6274d75630>\u001b[0m in \u001b[0;36m<module>\u001b[1;34m\u001b[0m\n\u001b[1;32m----> 1\u001b[1;33m \u001b[0mdf3\u001b[0m\u001b[1;33m=\u001b[0m\u001b[0mdf1\u001b[0m\u001b[1;33m.\u001b[0m\u001b[0mmerge\u001b[0m\u001b[1;33m(\u001b[0m\u001b[0mdf2\u001b[0m\u001b[1;33m,\u001b[0m \u001b[0mleft_on\u001b[0m\u001b[1;33m=\u001b[0m\u001b[1;34m'ClaimID'\u001b[0m\u001b[1;33m,\u001b[0m \u001b[0mright_on\u001b[0m\u001b[1;33m=\u001b[0m\u001b[1;34m'ClaimID'\u001b[0m\u001b[1;33m)\u001b[0m\u001b[1;33m\u001b[0m\u001b[1;33m\u001b[0m\u001b[0m\n\u001b[0m\u001b[0;32m      2\u001b[0m \u001b[0mdf3\u001b[0m\u001b[1;33m.\u001b[0m\u001b[0mcolumns\u001b[0m\u001b[1;33m\u001b[0m\u001b[1;33m\u001b[0m\u001b[0m\n",
      "\u001b[1;31mNameError\u001b[0m: name 'df1' is not defined"
     ]
    }
   ],
   "source": [
    "df3=df1.merge(df2, left_on='ClaimID', right_on='ClaimID')\n",
    "df3.columns"
   ]
  },
  {
   "cell_type": "code",
   "execution_count": 51,
   "metadata": {},
   "outputs": [],
   "source": [
    "df3.to_csv('C:/Users/Pavan/CSV_FILES_PYTHON/OUTPUT/2Test_merge2.0.csv',index=False)"
   ]
  },
  {
   "cell_type": "code",
   "execution_count": null,
   "metadata": {},
   "outputs": [],
   "source": []
  },
  {
   "cell_type": "code",
   "execution_count": 44,
   "metadata": {},
   "outputs": [],
   "source": [
    "#The Variables which can be removed are -, removed Catogerical  ComponentSet_OTHER column to avoid dummy variable trap\n",
    "#vars_to_be_removed = [ 'ComponentSet']\n",
    "\n",
    "#df.drop(vars_to_be_removed , axis = 1, inplace=True )#inplace=True"
   ]
  },
  {
   "cell_type": "markdown",
   "metadata": {},
   "source": [
    "# END Test DATA CleanUP"
   ]
  },
  {
   "cell_type": "code",
   "execution_count": null,
   "metadata": {},
   "outputs": [],
   "source": []
  }
 ],
 "metadata": {
  "kernelspec": {
   "display_name": "Python 3",
   "language": "python",
   "name": "python3"
  },
  "language_info": {
   "codemirror_mode": {
    "name": "ipython",
    "version": 3
   },
   "file_extension": ".py",
   "mimetype": "text/x-python",
   "name": "python",
   "nbconvert_exporter": "python",
   "pygments_lexer": "ipython3",
   "version": "3.7.4"
  }
 },
 "nbformat": 4,
 "nbformat_minor": 2
}
