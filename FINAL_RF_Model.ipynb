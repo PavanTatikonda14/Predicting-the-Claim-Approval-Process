{
 "cells": [
  {
   "cell_type": "markdown",
   "metadata": {},
   "source": [
    "# Claim Approval Process\n"
   ]
  },
  {
   "cell_type": "code",
   "execution_count": 1,
   "metadata": {},
   "outputs": [],
   "source": [
    "# To ignore any warnings\n",
    "import warnings\n",
    "warnings.filterwarnings('ignore')\n",
    "#To run all the commands in a same shell\n",
    "from IPython.core.interactiveshell import InteractiveShell\n",
    "InteractiveShell.ast_node_interactivity = \"all\"\n",
    "from matplotlib import pyplot\n",
    "import numpy as np\n",
    "import pandas as pd\n",
    "from scipy.stats import norm\n",
    "# For plotting graphs\n",
    "import matplotlib.pyplot as plt\n",
    "\n",
    "%matplotlib inline\n",
    "# For data visualization\n",
    "import seaborn as sns\n",
    "#for different algorithms\n",
    "from sklearn.utils import shuffle\n",
    "#from factor_analyzer import FactorAnalyzer\n",
    "from sklearn import decomposition, preprocessing\n",
    "from sklearn.model_selection import cross_val_score\n",
    "from sklearn.preprocessing import scale\n",
    "from sklearn.model_selection import train_test_split\n",
    "from sklearn.model_selection import cross_val_score\n",
    "from sklearn.metrics import accuracy_score\n",
    "from sklearn.metrics import classification_report\n",
    "from sklearn.metrics import confusion_matrix\n",
    "from sklearn.metrics import roc_curve\n",
    "from sklearn.metrics import roc_auc_score\n",
    "from sklearn.model_selection import GridSearchCV\n",
    "from sklearn.linear_model import LogisticRegression\n",
    "from sklearn.svm import SVC\n",
    "from sklearn.neighbors import KNeighborsClassifier\n",
    "from sklearn.tree import DecisionTreeClassifier, export_graphviz\n",
    "from sklearn.ensemble import RandomForestClassifier\n",
    "from sklearn.ensemble import GradientBoostingClassifier\n",
    "from sklearn.ensemble import AdaBoostClassifier"
   ]
  },
  {
   "cell_type": "markdown",
   "metadata": {},
   "source": [
    "# Import Dataset"
   ]
  },
  {
   "cell_type": "code",
   "execution_count": 42,
   "metadata": {
    "scrolled": true
   },
   "outputs": [
    {
     "data": {
      "text/plain": [
       "ClaimID           0\n",
       "LOB               0\n",
       "ProgramCode       0\n",
       "PlanCode          0\n",
       "VehicleMake       0\n",
       "VehicleModel      0\n",
       "VehicleYear       0\n",
       "TermMonth         0\n",
       "TermMiles         0\n",
       "ContractStatus    0\n",
       "Claimstatus       0\n",
       "AC                0\n",
       "AT                0\n",
       "BK                0\n",
       "CB                0\n",
       "CF                0\n",
       "CM                0\n",
       "CNG               0\n",
       "DI                0\n",
       "DZ                0\n",
       "EC                0\n",
       "ED                0\n",
      
       "dtype: int64"
      ]
     },
     "execution_count": 42,
     "metadata": {},
     "output_type": "execute_result"
    },
    {
     "data": {
      "text/plain": [
       "ClaimID        0\n",
       "LOB            0\n",
       "ProgramCode    0\n",
       "PlanCode       0\n",
       "VehicleMake    0\n",
       "              ..\n",
       "VAS            0\n",
       
       "Length: 65, dtype: int64"
      ]
     },
     "execution_count": 42,
     "metadata": {},
     "output_type": "execute_result"
    }
   ],
   "source": [
    "train= pd.read_csv(r'C:/Users/Pavan/CSV_FILES_PYTHON/OUTPUT/Big_train_datav3.csv')\n",
    "test= pd.read_csv(r'C:/Users/Pavan/CSV_FILES_PYTHON/OUTPUT/2Test_merge2.0.csv')\n",
    "#train.Claimstatus=train.Claimstatus.map({'C':1,'D':0}) \n",
    "train.isnull().sum()\n",
    "test.isnull().sum()"
   ]
  },
  {
   "cell_type": "code",
   "execution_count": 43,
   "metadata": {},
   "outputs": [
    {
     "data": {
      "text/plain": [
       "(55391, 65)"
      ]
     },
     "execution_count": 43,
     "metadata": {},
     "output_type": "execute_result"
    }
   ],
   "source": [
    "test.shape"
   ]
  },
  {
   "cell_type": "code",
   "execution_count": 45,
   "metadata": {},
   "outputs": [
    {
     "data": {
      "text/plain": [
       "(543444, 57)"
      ]
     },
     "execution_count": 45,
     "metadata": {},
     "output_type": "execute_result"
    }
   ],
   "source": [
    "train.shape"
   ]
  },
  {
   "cell_type": "code",
   "execution_count": 46,
   "metadata": {},
   "outputs": [],
   "source": [
    "from sklearn.utils import shuffle\n",
    "train = shuffle(train)\n",
    "test = shuffle(test)"
   ]
  },
  {
   "cell_type": "code",
   "execution_count": 47,
   "metadata": {},
   "outputs": [
    {
     "data": {
      "text/plain": [
       "(Index(['ClaimID', 'LOB', 'ProgramCode', 'PlanCode', 'VehicleMake',\n",
       "        'VehicleModel', 'VehicleYear', 'TermMonth', 'TermMiles',\n",
       "        'ContractStatus', 'Claimstatus', 'AC', 'AT', 'BK', 'CB', 'CF', 'CM',\n",
       "        'CNG', 'DI', 'DZ', 'EC', 'ED', 'EG', 'EL', 'EM', 'FE', 'FS', 'FW', 'GA',\n",
       "        'GAP', 'HT', 'IM', 'IN', 'KK', 'LD', 'LF', 'MAINT', 'MN', 'MT', 'PR',\n",
       "        'RA', 'RD', 'RF', 'RR', 'RW', 'SP', 'SS', 'ST', 'SUPPLIES', 'TB', 'TC',\n",
       "        'TI', 'WAEXPENSE', 'WAIVER', 'WAPR', 'WAVR', 'WH'],\n",
       "       dtype='object'), (543444, 57))"
      ]
     },
     "execution_count": 47,
     "metadata": {},
     "output_type": "execute_result"
    }
   ],
   "source": [
    "train.columns,train.shape"
   ]
  },
  {
   "cell_type": "code",
   "execution_count": 48,
   "metadata": {},
   "outputs": [
    {
     "data": {
      "text/plain": [
       "(Index(['ClaimID', 'LOB', 'ProgramCode', 'PlanCode', 'VehicleMake',\n",
       "        'VehicleModel', 'VehicleYear', 'TermMonth', 'TermMiles',\n",
       "        'ContractStatus', 'AC', 'AT', 'AX', 'BK', 'BM', 'CB', 'CF', 'CNG', 'DC',\n",
       "        'DI', 'DZ', 'EC', 'ED', 'EG', 'EL', 'EM', 'FE', 'FR', 'FS', 'FW', 'GAP',\n",
       "        'HT', 'HW', 'IM', 'IN', 'KK', 'LD', 'LF', 'MAINT', 'MN', 'MT', 'OT',\n",
       "        'OTHER', 'RAM', 'RD', 'RF', 'RR', 'RW', 'SH', 'SHORT', 'SP', 'SS', 'ST',\n",
       "        'SU', 'SUPPLIES', 'TB', 'TC', 'TI', 'TR', 'TW', 'VAS', 'WAEXPENSE',\n",
       "        'WAVR', 'WH', 'WS'],\n",
       "       dtype='object'), (55391, 65))"
      ]
     },
     "execution_count": 48,
     "metadata": {},
     "output_type": "execute_result"
    }
   ],
   "source": [
    "test.columns,test.shape"
   ]
  },
  {
   "cell_type": "code",
   "execution_count": 49,
   "metadata": {},
   "outputs": [
    {
     "data": {
      "text/plain": [
       "1    538970\n",
       "0      4474\n",
       "Name: Claimstatus, dtype: int64"
      ]
     },
     "execution_count": 49,
     "metadata": {},
     "output_type": "execute_result"
    }
   ],
   "source": [
    "train.Claimstatus.value_counts()"
   ]
  },
  {
   "cell_type": "code",
   "execution_count": 50,
   "metadata": {},
   "outputs": [],
   "source": [
    "#test[['ClaimID','ClaimStatus']].to_csv('C:/Users/Pavan/Documents/Out_RESULT/Test_NEW.csv',index=False)"
   ]
  },
  {
   "cell_type": "code",
   "execution_count": 51,
   "metadata": {
    "scrolled": true
   },
   "outputs": [
    {
     "data": {
      "text/html": [
       "<div>\n",
       "<style scoped>\n",
       "    .dataframe tbody tr th:only-of-type {\n",
       "        vertical-align: middle;\n",
       "    }\n",
       "\n",
       "    .dataframe tbody tr th {\n",
       "        vertical-align: top;\n",
       "    }\n",
       "\n",
       "    .dataframe thead th {\n",
       "        text-align: right;\n",
       "    }\n",
       "</style>\n",
       "<table border=\"1\" class=\"dataframe\">\n",
       "  <thead>\n",
       "    <tr style=\"text-align: right;\">\n",
       "      <th></th>\n",
       "      <th>AC</th>\n",
       "      <th>AT</th>\n",
       "      <th>AX</th>\n",
       "      <th>BK</th>\n",
       "      <th>BM</th>\n",
       "      <th>CB</th>\n",
       "      <th>CF</th>\n",
       "      <th>CM</th>\n",
       "      <th>CNG</th>\n",
       "      <th>ClaimID</th>\n",
       "      <th>...</th>\n",
       "      <th>VAS</th>\n",
       "      <th>VehicleMake</th>\n",
       "      <th>VehicleModel</th>\n",
       "      <th>VehicleYear</th>\n",
       "      <th>WAEXPENSE</th>\n",
       "      <th>WAIVER</th>\n",
       "      <th>WAPR</th>\n",
       "      <th>WAVR</th>\n",
       "      <th>WH</th>\n",
       "      <th>WS</th>\n",
       "    </tr>\n",
       "  </thead>\n",
       "  <tbody>\n",
       "    <tr>\n",
       "      <td>230674</td>\n",
       "      <td>0</td>\n",
       "      <td>0</td>\n",
       "      <td>NaN</td>\n",
       "      <td>0</td>\n",
       "      <td>NaN</td>\n",
       "      <td>0</td>\n",
       "      <td>0</td>\n",
       "      <td>0.0</td>\n",
       "      <td>0</td>\n",
       "      <td>732230</td>\n",
       "      <td>...</td>\n",
       "      <td>NaN</td>\n",
       "      <td>31</td>\n",
       "      <td>2278</td>\n",
       "      <td>2004</td>\n",
       "      <td>0</td>\n",
       "      <td>0.0</td>\n",
       "      <td>0.0</td>\n",
       "      <td>0</td>\n",
       "      <td>0</td>\n",
       "      <td>NaN</td>\n",
       "    </tr>\n",
       "    <tr>\n",
       "      <td>360234</td>\n",
       "      <td>0</td>\n",
       "      <td>0</td>\n",
       "      <td>NaN</td>\n",
       "      <td>0</td>\n",
       "      <td>NaN</td>\n",
       "      <td>0</td>\n",
       "      <td>0</td>\n",
       "      <td>0.0</td>\n",
       "      <td>0</td>\n",
       "      <td>928430</td>\n",
       "      <td>...</td>\n",
       "      <td>NaN</td>\n",
       "      <td>83</td>\n",
       "      <td>2520</td>\n",
       "      <td>2004</td>\n",
       "      <td>0</td>\n",
       "      <td>0.0</td>\n",
       "      <td>0.0</td>\n",
       "      <td>0</td>\n",
       "      <td>0</td>\n",
       "      <td>NaN</td>\n",
       "    </tr>\n",
       "    <tr>\n",
       "      <td>329474</td>\n",
       "      <td>0</td>\n",
       "      <td>0</td>\n",
       "      <td>NaN</td>\n",
       "      <td>0</td>\n",
       "      <td>NaN</td>\n",
       "      <td>0</td>\n",
       "      <td>0</td>\n",
       "      <td>0.0</td>\n",
       "      <td>0</td>\n",
       "      <td>881897</td>\n",
       "      <td>...</td>\n",
       "      <td>NaN</td>\n",
       "      <td>19</td>\n",
       "      <td>2744</td>\n",
       "      <td>2005</td>\n",
       "      <td>0</td>\n",
       "      <td>0.0</td>\n",
       "      <td>0.0</td>\n",
       "      <td>0</td>\n",
       "      <td>0</td>\n",
       "      <td>NaN</td>\n",
       "    </tr>\n",
       "    <tr>\n",
       "      <td>110845</td>\n",
       "      <td>0</td>\n",
       "      <td>0</td>\n",
       "      <td>NaN</td>\n",
       "      <td>0</td>\n",
       "      <td>NaN</td>\n",
       "      <td>0</td>\n",
       "      <td>0</td>\n",
       "      <td>0.0</td>\n",
       "      <td>0</td>\n",
       "      <td>553192</td>\n",
       "      <td>...</td>\n",
       "      <td>NaN</td>\n",
       "      <td>88</td>\n",
       "      <td>5010</td>\n",
       "      <td>1995</td>\n",
       "      <td>0</td>\n",
       "      <td>0.0</td>\n",
       "      <td>0.0</td>\n",
       "      <td>0</td>\n",
       "      <td>0</td>\n",
       "      <td>NaN</td>\n",
       "    </tr>\n",
       "    <tr>\n",
       "      <td>389150</td>\n",
       "      <td>0</td>\n",
       "      <td>0</td>\n",
       "      <td>NaN</td>\n",
       "      <td>0</td>\n",
       "      <td>NaN</td>\n",
       "      <td>0</td>\n",
       "      <td>0</td>\n",
       "      <td>0.0</td>\n",
       "      <td>0</td>\n",
       "      <td>973154</td>\n",
       "      <td>...</td>\n",
       "      <td>NaN</td>\n",
       "      <td>111</td>\n",
       "      <td>3026</td>\n",
       "      <td>2005</td>\n",
       "      <td>0</td>\n",
       "      <td>0.0</td>\n",
       "      <td>0.0</td>\n",
       "      <td>0</td>\n",
       "      <td>0</td>\n",
       "      <td>NaN</td>\n",
       "    </tr>\n",
       "  </tbody>\n",
       "</table>\n",
       "<p>5 rows × 71 columns</p>\n",
       "</div>"
      ],
      "text/plain": [
       "        AC  AT  AX  BK  BM  CB  CF   CM  CNG  ClaimID  ...  VAS  VehicleMake  \\\n",
       "230674   0   0 NaN   0 NaN   0   0  0.0    0   732230  ...  NaN           31   \n",
       "360234   0   0 NaN   0 NaN   0   0  0.0    0   928430  ...  NaN           83   \n",
       "329474   0   0 NaN   0 NaN   0   0  0.0    0   881897  ...  NaN           19   \n",
       "110845   0   0 NaN   0 NaN   0   0  0.0    0   553192  ...  NaN           88   \n",
       "389150   0   0 NaN   0 NaN   0   0  0.0    0   973154  ...  NaN          111   \n",
       "\n",
       "        VehicleModel  VehicleYear  WAEXPENSE  WAIVER  WAPR  WAVR  WH  WS  \n",
       "230674          2278         2004          0     0.0   0.0     0   0 NaN  \n",
       "360234          2520         2004          0     0.0   0.0     0   0 NaN  \n",
       "329474          2744         2005          0     0.0   0.0     0   0 NaN  \n",
       "110845          5010         1995          0     0.0   0.0     0   0 NaN  \n",
       "389150          3026         2005          0     0.0   0.0     0   0 NaN  \n",
       "\n",
       "[5 rows x 71 columns]"
      ]
     },
     "execution_count": 51,
     "metadata": {},
     "output_type": "execute_result"
    }
   ],
   "source": [
    "ClaimStatus=train.Claimstatus\n",
    "train.drop('Claimstatus',axis=1,inplace=True)\n",
    "ClaimID=test.ClaimID\n",
    "df=train.append(test)\n",
    "df.head()"
   ]
  },
  {
   "cell_type": "code",
   "execution_count": 52,
   "metadata": {},
   "outputs": [
    {
     "data": {
      "text/plain": [
       "AC             0\n",
       "AT             0\n",
       "AX        543444\n",
       "BK             0\n",
       "BM        543444\n",
       "           ...  \n",
       "WAIVER     55391\n",
       "WAPR       55391\n",
       "WAVR           0\n",
       "WH             0\n",
       "WS        543444\n",
       "Length: 71, dtype: int64"
      ]
     },
     "execution_count": 52,
     "metadata": {},
     "output_type": "execute_result"
    }
   ],
   "source": [
    "df.apply(lambda x: sum(x.isnull()), axis=0)"
   ]
  },
  {
   "cell_type": "code",
   "execution_count": null,
   "metadata": {},
   "outputs": [],
   "source": []
  },
  {
   "cell_type": "code",
   "execution_count": 53,
   "metadata": {},
   "outputs": [
    {
     "data": {
      "text/plain": [
       "8484006"
      ]
     },
     "execution_count": 53,
     "metadata": {},
     "output_type": "execute_result"
    }
   ],
   "source": [
    "#shows the total number of missing values\n",
    "df.isnull().sum().sum()"
   ]
  },
  {
   "cell_type": "code",
   "execution_count": 54,
   "metadata": {},
   "outputs": [
    {
     "data": {
      "text/plain": [
       "AX        543444\n",
       "BM        543444\n",
       "CM         55391\n",
       "DC        543444\n",
       "FR        543444\n",
       "GA         55391\n",
       "HW        543444\n",
       "OT        543444\n",
       "OTHER     543444\n",
       "PR         55391\n",
       "RA         55391\n",
       "RAM       543444\n",
       "SH        543444\n",
       "SHORT     543444\n",
       "SU        543444\n",
       "TR        543444\n",
       "TW        543444\n",
       "VAS       543444\n",
       "WAIVER     55391\n",
       "WAPR       55391\n",
       "WS        543444\n",
       "dtype: int64"
      ]
     },
     "execution_count": 54,
     "metadata": {},
     "output_type": "execute_result"
    }
   ],
   "source": [
    "nulls = df.isnull().sum()\n",
    "nulls[nulls > 0]"
   ]
  },
  {
   "cell_type": "code",
   "execution_count": 55,
   "metadata": {},
   "outputs": [
    {
     "data": {
      "text/plain": [
       "AC             0\n",
       "AT             0\n",
       "AX        543444\n",
       "BK             0\n",
       "BM        543444\n",
       "           ...  \n",
       "WAIVER     55391\n",
       "WAPR       55391\n",
       "WAVR           0\n",
       "WH             0\n",
       "WS        543444\n",
       "Length: 71, dtype: int64"
      ]
     },
     "execution_count": 55,
     "metadata": {},
     "output_type": "execute_result"
    }
   ],
   "source": [
    "#shows the missing values at individual variable level\n",
    "\n",
    "#df.isnull().sum() --> works same as below code\n",
    "df.apply(lambda x: sum(x.isnull()), axis=0)"
   ]
  },
  {
   "cell_type": "code",
   "execution_count": 56,
   "metadata": {},
   "outputs": [
    {
     "data": {
      "text/plain": [
       "8484006"
      ]
     },
     "execution_count": 56,
     "metadata": {},
     "output_type": "execute_result"
    }
   ],
   "source": [
    "#shows the total number of missing values\n",
    "df.isnull().sum().sum()"
   ]
  },
  {
   "cell_type": "code",
   "execution_count": 57,
   "metadata": {},
   "outputs": [],
   "source": [
    "df.fillna(0, inplace=True)"
   ]
  },
  {
   "cell_type": "code",
   "execution_count": 58,
   "metadata": {},
   "outputs": [
    {
     "data": {
      "text/plain": [
       "(598835, 71)"
      ]
     },
     "execution_count": 58,
     "metadata": {},
     "output_type": "execute_result"
    }
   ],
   "source": [
    "df.shape"
   ]
  },
  {
   "cell_type": "markdown",
   "metadata": {},
   "source": [
    "# COLUMNS REMOVED"
   ]
  },
  {
   "cell_type": "code",
   "execution_count": 59,
   "metadata": {
    "scrolled": true
   },
   "outputs": [
    {
     "data": {
      "text/plain": [
       "['AC',\n",
       " 'AT',\n",
       " 'AX',\n",
       " 'BK',\n",
       " 'BM',\n",
       " 'CB',\n",
       " 'CF',\n",
       " 'CM',\n",
       " 'CNG',\n",
       " 'ClaimID',\n",
       " 'ContractStatus',\n",
       " 'DC',\n",
       " 'DI',\n",
       " 'DZ',\n",
       " 'EC',\n",
       " 'ED',\n",
       " 'EG',\n",
       " 'EL',\n",
       " 'EM',\n",
       " 'FE',\n",
       " 'FR',\n",
       " 'FS',\n",
       " 'FW',\n",
       " 'GA',\n",
       " 'GAP',\n",
       " 'HT',\n",
       " 'HW',\n",
       " 'IM',\n",
       " 'IN',\n",
       " 'KK',\n",
       " 'LD',\n",
       " 'LF',\n",
       " 'LOB',\n",
       " 'MAINT',\n",
       " 'MN',\n",
       " 'MT',\n",
       " 'OT',\n",
       " 'OTHER',\n",
       " 'PR',\n",
       " 'PlanCode',\n",
       " 'ProgramCode',\n",
       " 'RA',\n",
       " 'RAM',\n",
       " 'RD',\n",
       " 'RF',\n",
       " 'RR',\n",
       " 'RW',\n",
       " 'SH',\n",
       " 'SHORT',\n",
       " 'SP',\n",
       " 'SS',\n",
       " 'ST',\n",
       " 'SU',\n",
       " 'SUPPLIES',\n",
       " 'TB',\n",
       " 'TC',\n",
       " 'TI',\n",
       " 'TR',\n",
       " 'TW',\n",
       " 'TermMiles',\n",
       " 'TermMonth',\n",
       " 'VAS',\n",
       " 'VehicleMake',\n",
       " 'VehicleModel',\n",
       " 'VehicleYear',\n",
       " 'WAEXPENSE',\n",
       " 'WAIVER',\n",
       " 'WAPR',\n",
       " 'WAVR',\n",
       " 'WH',\n",
       " 'WS']"
      ]
     },
     "execution_count": 59,
     "metadata": {},
     "output_type": "execute_result"
    }
   ],
   "source": [
    "#shows the variable names present in the dataframe\n",
    "list(df.columns.values)"
   ]
  },
  {
   "cell_type": "code",
   "execution_count": 60,
   "metadata": {},
   "outputs": [
    {
     "data": {
      "text/plain": [
       "(598835, 71)"
      ]
     },
     "execution_count": 60,
     "metadata": {},
     "output_type": "execute_result"
    }
   ],
   "source": [
    "df.shape"
   ]
  },
  {
   "cell_type": "code",
   "execution_count": 61,
   "metadata": {},
   "outputs": [
    {
     "data": {
      "text/plain": [
       "AC        0\n",
       "AT        0\n",
       "AX        0\n",
       "BK        0\n",
       "BM        0\n",
       "         ..\n",
       "WAIVER    0\n",
       "WAPR      0\n",
       "WAVR      0\n",
       "WH        0\n",
       "WS        0\n",
       "Length: 71, dtype: int64"
      ]
     },
     "execution_count": 61,
     "metadata": {},
     "output_type": "execute_result"
    }
   ],
   "source": [
    "df.isnull().sum()"
   ]
  },
  {
   "cell_type": "code",
   "execution_count": 62,
   "metadata": {},
   "outputs": [],
   "source": [
    "#df.to_csv('C:/Users/Pavan/Documents/DATAEFG/Out_RESULT/recheck.csv',index=False)"
   ]
  },
  {
   "cell_type": "code",
   "execution_count": 63,
   "metadata": {},
   "outputs": [],
   "source": [
    "df.fillna(0, inplace=True)"
   ]
  },
  {
   "cell_type": "code",
   "execution_count": 64,
   "metadata": {},
   "outputs": [],
   "source": [
    "df = df.dropna()"
   ]
  },
  {
   "cell_type": "code",
   "execution_count": 65,
   "metadata": {},
   "outputs": [
    {
     "name": "stdout",
     "output_type": "stream",
     "text": [
      "<class 'pandas.core.frame.DataFrame'>\n",
      "Int64Index: 598835 entries, 230674 to 23051\n",
      "Data columns (total 71 columns):\n",
      "AC                598835 non-null int64\n",
      "AT                598835 non-null int64\n",
      "AX                598835 non-null float64\n",
      "BK                598835 non-null int64\n",
      "BM                598835 non-null float64\n",
      "CB                598835 non-null int64\n",
      "CF                598835 non-null int64\n",
      "CM                598835 non-null float64\n",
      "CNG               598835 non-null int64\n",
      "ClaimID           598835 non-null int64\n",
      "ContractStatus    598835 non-null int64\n",
      "DC                598835 non-null float64\n",
      "DI                598835 non-null int64\n",
      "DZ                598835 non-null int64\n",
      "EC                598835 non-null int64\n",
      "ED                598835 non-null int64\n",
      "EG                598835 non-null int64\n",
      "EL                598835 non-null int64\n",
      "EM                598835 non-null int64\n",
      "FE                598835 non-null int64\n",
      "FR                598835 non-null float64\n",
      "FS                598835 non-null int64\n",
      "FW                598835 non-null int64\n",
      "GA                598835 non-null float64\n",
      "GAP               598835 non-null int64\n",
      "HT                598835 non-null int64\n",
      "HW                598835 non-null float64\n",
      "IM                598835 non-null int64\n",
      "IN                598835 non-null int64\n",
      "KK                598835 non-null int64\n",
      "LD                598835 non-null int64\n",
      "LF                598835 non-null int64\n",
      "LOB               598835 non-null int64\n",
      "MAINT             598835 non-null int64\n",
      "MN                598835 non-null int64\n",
      "MT                598835 non-null int64\n",
      "OT                598835 non-null float64\n",
      "OTHER             598835 non-null float64\n",
      "PR                598835 non-null float64\n",
      "PlanCode          598835 non-null int64\n",
      "ProgramCode       598835 non-null int64\n",
      "RA                598835 non-null float64\n",
      "RAM               598835 non-null float64\n",
      "RD                598835 non-null int64\n",
      "RF                598835 non-null int64\n",
      "RR                598835 non-null int64\n",
      "RW                598835 non-null int64\n",
      "SH                598835 non-null float64\n",
      "SHORT             598835 non-null float64\n",
      "SP                598835 non-null int64\n",
      "SS                598835 non-null int64\n",
      "ST                598835 non-null int64\n",
      "SU                598835 non-null float64\n",
      "SUPPLIES          598835 non-null int64\n",
      "TB                598835 non-null int64\n",
      "TC                598835 non-null int64\n",
      "TI                598835 non-null int64\n",
      "TR                598835 non-null float64\n",
      "TW                598835 non-null float64\n",
      "TermMiles         598835 non-null int64\n",
      "TermMonth         598835 non-null int64\n",
      "VAS               598835 non-null float64\n",
      "VehicleMake       598835 non-null int64\n",
      "VehicleModel      598835 non-null int64\n",
      "VehicleYear       598835 non-null int64\n",
      "WAEXPENSE         598835 non-null int64\n",
      "WAIVER            598835 non-null float64\n",
      "WAPR              598835 non-null float64\n",
      "WAVR              598835 non-null int64\n",
      "WH                598835 non-null int64\n",
      "WS                598835 non-null float64\n",
      "dtypes: float64(21), int64(50)\n",
      "memory usage: 328.9 MB\n"
     ]
    }
   ],
   "source": [
    "df.info()"
   ]
  },
  {
   "cell_type": "code",
   "execution_count": 69,
   "metadata": {},
   "outputs": [],
   "source": [
    "\n",
    "\n",
    "train_X=df.iloc[:543444,]\n",
    "train_y=ClaimStatus\n",
    "test=df.iloc[543444:,]\n",
    "seed=7"
   ]
  },
  {
   "cell_type": "code",
   "execution_count": 70,
   "metadata": {
    "scrolled": true
   },
   "outputs": [],
   "source": [
    "from sklearn.model_selection import train_test_split\n",
    "train_X,test_X,train_y,test_y=train_test_split(train_X,train_y,random_state=seed)"
   ]
  },
  {
   "cell_type": "code",
   "execution_count": 71,
   "metadata": {},
   "outputs": [
    {
     "data": {
      "text/plain": [
       "1    404268\n",
       "0      3315\n",
       "Name: Claimstatus, dtype: int64"
      ]
     },
     "execution_count": 71,
     "metadata": {},
     "output_type": "execute_result"
    },
    {
     "data": {
      "text/plain": [
       "1    134702\n",
       "0      1159\n",
       "Name: Claimstatus, dtype: int64"
      ]
     },
     "execution_count": 71,
     "metadata": {},
     "output_type": "execute_result"
    }
   ],
   "source": [
    "train_y.value_counts()\n",
    "test_y.value_counts()"
   ]
  },
  {
   "cell_type": "code",
   "execution_count": 72,
   "metadata": {},
   "outputs": [],
   "source": [
    "from sklearn import model_selection\n",
    "from sklearn.discriminant_analysis import LinearDiscriminantAnalysis\n",
    "from sklearn.linear_model import LogisticRegression\n",
    "from sklearn.tree import DecisionTreeClassifier\n",
    "from sklearn.svm import SVC\n",
    "from sklearn.neighbors import KNeighborsClassifier\n",
    "from sklearn.naive_bayes import GaussianNB\n",
    "from sklearn.ensemble import RandomForestClassifier\n",
    "from sklearn.ensemble import GradientBoostingClassifier\n",
    "from sklearn.ensemble import AdaBoostClassifier"
   ]
  },
  {
   "cell_type": "code",
   "execution_count": 73,
   "metadata": {},
   "outputs": [],
   "source": [
    "models=[]\n",
    "#models.append((\"logreg\",LogisticRegression()))\n",
    "#models.append((\"tree\",DecisionTreeClassifier()))\n",
    "#models.append((\"lda\",LinearDiscriminantAnalysis()))\n",
    "#models.append((\"svc\",SVC()))\n",
    "#models.append((\"knn\",KNeighborsClassifier()))\n",
    "#models.append((\"nb\",GaussianNB()))\n",
    "#models.append((\"XGB\",GradientBoostingClassifier()))\n",
    "models.append((\"RF\",RandomForestClassifier()))\n",
    "#models.append((\"ABC\",AdaBoostClassifier()))"
   ]
  },
  {
   "cell_type": "code",
   "execution_count": 74,
   "metadata": {},
   "outputs": [],
   "source": [
    "seed=7\n",
    "scoring='accuracy'"
   ]
  },
  {
   "cell_type": "code",
   "execution_count": 75,
   "metadata": {},
   "outputs": [],
   "source": [
    "\n",
    "from sklearn.model_selection import KFold \n",
    "from sklearn.model_selection import cross_val_score\n",
    "result=[]\n",
    "names=[]"
   ]
  },
  {
   "cell_type": "code",
   "execution_count": 76,
   "metadata": {},
   "outputs": [
    {
     "name": "stdout",
     "output_type": "stream",
     "text": [
      "RF 0.993057 0.000464\n"
     ]
    }
   ],
   "source": [
    "for name,model in models:\n",
    "    #print(model)\n",
    "    kfold=KFold(n_splits=10,random_state=seed)\n",
    "    cv_result=cross_val_score(model,train_X,train_y,cv=kfold,scoring=scoring)\n",
    "    result.append(cv_result)\n",
    "    names.append(name)\n",
    "    print(\"%s %f %f\" % (name,cv_result.mean(),cv_result.std()))"
   ]
  },
  {
   "cell_type": "code",
   "execution_count": 77,
   "metadata": {},
   "outputs": [
    {
     "data": {
      "text/plain": [
       "RandomForestClassifier(bootstrap=True, class_weight=None, criterion='gini',\n",
       "                       max_depth=None, max_features='auto', max_leaf_nodes=None,\n",
       "                       min_impurity_decrease=0.0, min_impurity_split=None,\n",
       "                       min_samples_leaf=1, min_samples_split=2,\n",
       "                       min_weight_fraction_leaf=0.0, n_estimators=10,\n",
       "                       n_jobs=None, oob_score=False, random_state=None,\n",
       "                       verbose=0, warm_start=False)"
      ]
     },
     "execution_count": 77,
     "metadata": {},
     "output_type": "execute_result"
    },
    {
     "name": "stdout",
     "output_type": "stream",
     "text": [
      "0.992897152236477\n",
      "[[   440    719]\n",
      " [   246 134456]]\n",
      "              precision    recall  f1-score   support\n",
      "\n",
      "           0       0.64      0.38      0.48      1159\n",
      "           1       0.99      1.00      1.00    134702\n",
      "\n",
      "    accuracy                           0.99    135861\n",
      "   macro avg       0.82      0.69      0.74    135861\n",
      "weighted avg       0.99      0.99      0.99    135861\n",
      "\n"
     ]
    }
   ],
   "source": [
    "RF=RandomForestClassifier()\n",
    "RF.fit(train_X,train_y)\n",
    "pred=RF.predict(test_X)\n",
    "print(accuracy_score(test_y,pred))\n",
    "print(confusion_matrix(test_y,pred))\n",
    "print(classification_report(test_y,pred))"
   ]
  },
  {
   "cell_type": "code",
   "execution_count": 78,
   "metadata": {},
   "outputs": [],
   "source": [
    "df_output=pd.DataFrame()"
   ]
  },
  {
   "cell_type": "code",
   "execution_count": 79,
   "metadata": {},
   "outputs": [
    {
     "data": {
      "text/plain": [
       "array([0, 1, 1, ..., 1, 1, 1])"
      ]
     },
     "execution_count": 79,
     "metadata": {},
     "output_type": "execute_result"
    }
   ],
   "source": [
    "outp=RF.predict(test).astype(int)\n",
    "outp"
   ]
  },
  {
   "cell_type": "code",
   "execution_count": null,
   "metadata": {},
   "outputs": [],
   "source": []
  },
  {
   "cell_type": "code",
   "execution_count": 80,
   "metadata": {},
   "outputs": [],
   "source": [
    "df_output['ClaimID']=ClaimID\n",
    "df_output['ClaimStatus']=outp"
   ]
  },
  {
   "cell_type": "code",
   "execution_count": 81,
   "metadata": {},
   "outputs": [
    {
     "data": {
      "text/plain": [
       "1    52581\n",
       "0     2810\n",
       "Name: ClaimStatus, dtype: int64"
      ]
     },
     "execution_count": 81,
     "metadata": {},
     "output_type": "execute_result"
    }
   ],
   "source": [
    "df_output.ClaimStatus.value_counts()"
   ]
  },
  {
   "cell_type": "code",
   "execution_count": 82,
   "metadata": {},
   "outputs": [],
   "source": [
    "df_output[['ClaimID','ClaimStatus']].to_csv('C:/Users/Pavan/CSV_FILES_PYTHON/OUTPUT/Test_OutputRFF_1M.csv',index=False)"
   ]
  },
  {
   "cell_type": "markdown",
   "metadata": {},
   "source": [
    "# The END"
   ]
  },
  {
   "cell_type": "code",
   "execution_count": null,
   "metadata": {},
   "outputs": [],
   "source": []
  }
 ],
 "metadata": {
  "kernelspec": {
   "display_name": "Python 3",
   "language": "python",
   "name": "python3"
  },
  "language_info": {
   "codemirror_mode": {
    "name": "ipython",
    "version": 3
   },
   "file_extension": ".py",
   "mimetype": "text/x-python",
   "name": "python",
   "nbconvert_exporter": "python",
   "pygments_lexer": "ipython3",
   "version": "3.7.4"
  }
 },
 "nbformat": 4,
 "nbformat_minor": 2
}
